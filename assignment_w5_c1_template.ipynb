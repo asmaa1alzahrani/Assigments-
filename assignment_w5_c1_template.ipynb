{
 "cells": [
  {
   "cell_type": "markdown",
   "metadata": {},
   "source": [
    "## Asmaa Alzahrani\n",
    " 8/11/2021\n",
    "\n",
    "\n",
    "Week 5, Assignment C1:\n",
    "Logistic Regression with Yahoo! Finance API in Python\n",
    "\n",
    "In this notebook, we will study Logistic Regression using the Yahoo! Finance API in Python.\n",
    "\n",
    "Please complete the lines bellow where you see \"#TODO\"."
   ]
  },
  {
   "cell_type": "code",
   "execution_count": 1,
   "metadata": {},
   "outputs": [],
   "source": [
    "#Objective 1.\n",
    "#Use this cell to import the Numpy (as np), Pandas (as pd), and YFinance (as yf) packages.\n",
    "\n",
    "\n",
    "import numpy as np\n",
    "import pandas as pd\n",
    "import pandas\n",
    "import yfinance as yf\n",
    "\n",
    "\n",
    "#Our work will also require some components of the Sklearn and Pandas_Datareader packages as imported below:\n",
    "import sklearn\n",
    "from sklearn.linear_model import LogisticRegression\n",
    "from sklearn import metrics\n",
    "from sklearn.model_selection import cross_val_score\n",
    "from pandas_datareader import data as pdr\n",
    "yf.pdr_override()"
   ]
  },
  {
   "cell_type": "code",
   "execution_count": 2,
   "metadata": {},
   "outputs": [],
   "source": [
    "#Objective 2.\n",
    "#Select a stock symbol for a stock whose historical data is available on the Yahoo! Finance website.  Store the\n",
    "#string of your chosen symbol to the new variable \"stock_symbol\".\n",
    "\n",
    "stock_symbol = \"LCID\"\n"
   ]
  },
  {
   "cell_type": "code",
   "execution_count": 3,
   "metadata": {},
   "outputs": [
    {
     "name": "stdout",
     "output_type": "stream",
     "text": [
      "[*********************100%***********************]  1 of 1 completed\n"
     ]
    }
   ],
   "source": [
    "df = pdr.get_data_yahoo(stock_symbol, pandas.Timestamp('2019'), pandas.Timestamp('2021'))"
   ]
  },
  {
   "cell_type": "code",
   "execution_count": 4,
   "metadata": {},
   "outputs": [
    {
     "name": "stdout",
     "output_type": "stream",
     "text": [
      "[*********************100%***********************]  1 of 1 completed\n",
      "[*********************100%***********************]  1 of 1 completed\n"
     ]
    }
   ],
   "source": [
    "#Objective 3.\n",
    "#Use the function \"pdr.get_data_yahoo(stock_symbol, start_date, end_date)\" to generate a Pandas dataframe of\n",
    "#historical stock data for your chosen stock.  Retain only the first four columns of the dataframe.  Be sure to \n",
    "#drop any rows containing NaN's, and take a peek at the resulting dataframe to make sure everything looks good.\n",
    "\n",
    "df = pdr.get_data_yahoo(stock_symbol, pandas.Timestamp('2019'), pandas.Timestamp('2021'))\n",
    "df = df[pdr.get_data_yahoo(stock_symbol, pandas.Timestamp('2019'), pandas.Timestamp('2021')).columns[0:4]]\n",
    "df = df[['Open', 'High','Low','Close']]\n",
    "df =df.dropna()"
   ]
  },
  {
   "cell_type": "code",
   "execution_count": 5,
   "metadata": {},
   "outputs": [
    {
     "data": {
      "text/html": [
       "<div>\n",
       "<style scoped>\n",
       "    .dataframe tbody tr th:only-of-type {\n",
       "        vertical-align: middle;\n",
       "    }\n",
       "\n",
       "    .dataframe tbody tr th {\n",
       "        vertical-align: top;\n",
       "    }\n",
       "\n",
       "    .dataframe thead th {\n",
       "        text-align: right;\n",
       "    }\n",
       "</style>\n",
       "<table border=\"1\" class=\"dataframe\">\n",
       "  <thead>\n",
       "    <tr style=\"text-align: right;\">\n",
       "      <th></th>\n",
       "      <th>Open</th>\n",
       "      <th>High</th>\n",
       "      <th>Low</th>\n",
       "      <th>Close</th>\n",
       "    </tr>\n",
       "    <tr>\n",
       "      <th>Date</th>\n",
       "      <th></th>\n",
       "      <th></th>\n",
       "      <th></th>\n",
       "      <th></th>\n",
       "    </tr>\n",
       "  </thead>\n",
       "  <tbody>\n",
       "    <tr>\n",
       "      <th>2020-09-18</th>\n",
       "      <td>10.25</td>\n",
       "      <td>10.250</td>\n",
       "      <td>9.82</td>\n",
       "      <td>9.89</td>\n",
       "    </tr>\n",
       "    <tr>\n",
       "      <th>2020-09-21</th>\n",
       "      <td>9.90</td>\n",
       "      <td>9.960</td>\n",
       "      <td>9.86</td>\n",
       "      <td>9.86</td>\n",
       "    </tr>\n",
       "    <tr>\n",
       "      <th>2020-09-22</th>\n",
       "      <td>9.96</td>\n",
       "      <td>9.960</td>\n",
       "      <td>9.85</td>\n",
       "      <td>9.88</td>\n",
       "    </tr>\n",
       "    <tr>\n",
       "      <th>2020-09-23</th>\n",
       "      <td>9.90</td>\n",
       "      <td>9.905</td>\n",
       "      <td>9.79</td>\n",
       "      <td>9.85</td>\n",
       "    </tr>\n",
       "    <tr>\n",
       "      <th>2020-09-24</th>\n",
       "      <td>9.85</td>\n",
       "      <td>9.850</td>\n",
       "      <td>9.75</td>\n",
       "      <td>9.77</td>\n",
       "    </tr>\n",
       "    <tr>\n",
       "      <th>...</th>\n",
       "      <td>...</td>\n",
       "      <td>...</td>\n",
       "      <td>...</td>\n",
       "      <td>...</td>\n",
       "    </tr>\n",
       "    <tr>\n",
       "      <th>2020-12-24</th>\n",
       "      <td>10.08</td>\n",
       "      <td>10.100</td>\n",
       "      <td>10.01</td>\n",
       "      <td>10.04</td>\n",
       "    </tr>\n",
       "    <tr>\n",
       "      <th>2020-12-28</th>\n",
       "      <td>10.11</td>\n",
       "      <td>10.180</td>\n",
       "      <td>10.04</td>\n",
       "      <td>10.08</td>\n",
       "    </tr>\n",
       "    <tr>\n",
       "      <th>2020-12-29</th>\n",
       "      <td>10.10</td>\n",
       "      <td>10.110</td>\n",
       "      <td>10.03</td>\n",
       "      <td>10.06</td>\n",
       "    </tr>\n",
       "    <tr>\n",
       "      <th>2020-12-30</th>\n",
       "      <td>10.04</td>\n",
       "      <td>10.080</td>\n",
       "      <td>10.02</td>\n",
       "      <td>10.07</td>\n",
       "    </tr>\n",
       "    <tr>\n",
       "      <th>2020-12-31</th>\n",
       "      <td>10.07</td>\n",
       "      <td>10.070</td>\n",
       "      <td>10.01</td>\n",
       "      <td>10.01</td>\n",
       "    </tr>\n",
       "  </tbody>\n",
       "</table>\n",
       "<p>73 rows × 4 columns</p>\n",
       "</div>"
      ],
      "text/plain": [
       "             Open    High    Low  Close\n",
       "Date                                   \n",
       "2020-09-18  10.25  10.250   9.82   9.89\n",
       "2020-09-21   9.90   9.960   9.86   9.86\n",
       "2020-09-22   9.96   9.960   9.85   9.88\n",
       "2020-09-23   9.90   9.905   9.79   9.85\n",
       "2020-09-24   9.85   9.850   9.75   9.77\n",
       "...           ...     ...    ...    ...\n",
       "2020-12-24  10.08  10.100  10.01  10.04\n",
       "2020-12-28  10.11  10.180  10.04  10.08\n",
       "2020-12-29  10.10  10.110  10.03  10.06\n",
       "2020-12-30  10.04  10.080  10.02  10.07\n",
       "2020-12-31  10.07  10.070  10.01  10.01\n",
       "\n",
       "[73 rows x 4 columns]"
      ]
     },
     "execution_count": 5,
     "metadata": {},
     "output_type": "execute_result"
    }
   ],
   "source": [
    "df"
   ]
  },
  {
   "cell_type": "code",
   "execution_count": 6,
   "metadata": {},
   "outputs": [],
   "source": [
    "#Objective 4.\n",
    "#Use the historical data to define some predictor variables.  Add these variables to the dataframe.  Include, at a\n",
    "#minimum, (Predictor.I) the rolling average closing price over the past fifteen (15) days and (Predictor.II) the\n",
    "#change in opening price over the past one (1) day.  Be sure to again drop any rows containing NaN's, and take a\n",
    "#peek at the resulting dataframe to make sure everything looks good.  Store the dataframe as the new variable \"X\".\n",
    "\n",
    "df['Close_15_Rolling'] = df['Close'].rolling(window=15).mean()\n",
    "df['Open_1_Change'] = df['Open'].diff()\n",
    "df = df.dropna()\n",
    "X = df"
   ]
  },
  {
   "cell_type": "code",
   "execution_count": 7,
   "metadata": {},
   "outputs": [
    {
     "data": {
      "text/plain": [
       "array([-1,  1, -1,  1])"
      ]
     },
     "execution_count": 7,
     "metadata": {},
     "output_type": "execute_result"
    }
   ],
   "source": [
    "np.where([True,False,True,False],-1,1)"
   ]
  },
  {
   "cell_type": "code",
   "execution_count": 8,
   "metadata": {},
   "outputs": [
    {
     "name": "stdout",
     "output_type": "stream",
     "text": [
      "Date\n",
      "2020-10-08    0.033\n",
      "2020-10-09   -0.020\n",
      "2020-10-12   -0.030\n",
      "2020-10-13   -0.020\n",
      "2020-10-14    0.000\n",
      "2020-10-15    0.000\n",
      "Name: Close, dtype: float64\n"
     ]
    },
    {
     "data": {
      "text/plain": [
       "array([ 1, -1, -1, -1,  1,  1,  1, -1, -1, -1, -1,  1,  1,  1,  1, -1,  1,\n",
       "        1,  1,  1, -1, -1,  1, -1,  1, -1,  1,  1,  1, -1, -1,  1,  1,  1,\n",
       "        1,  1,  1, -1,  1,  1,  1, -1,  1, -1,  1,  1, -1, -1,  1, -1,  1,\n",
       "        1,  1,  1,  1, -1,  1, -1, -1])"
      ]
     },
     "execution_count": 8,
     "metadata": {},
     "output_type": "execute_result"
    }
   ],
   "source": [
    "#Objective 5.\n",
    "#Define the target or dependent variable to be one (1) if the change in closing price over the past one (1) day is\n",
    "#nonnegative and negative one (-1) if the change in closing price over the past one (1) day is negative.  This\n",
    "#variable's values should be forward-looking (i.e., you should subtract today's price from tomorrow's price rather\n",
    "#than subtracting yesterday's price from today's price).  Store the resulting values as the new variable \"y\".  You\n",
    "#may find the \"np.where(*args)\" function to be useful.  Look it up in Numpy documentation for support.\n",
    "\n",
    "y = np.where(\n",
    "    (df.Close.shift(-1)-df['Close'])>=0\n",
    "               ,\n",
    "               1,\n",
    "               -1)\n",
    "print((df.Close.shift(-1)-df['Close'])[0:6])\n",
    "y"
   ]
  },
  {
   "cell_type": "code",
   "execution_count": 9,
   "metadata": {},
   "outputs": [],
   "source": [
    "#Objective 6.\n",
    "#Split the data into training and test sets, putting the first seventy percent (70%) of the data in the training\n",
    "#set.\n",
    "\n",
    "index = int(0.7*len(X))\n",
    "X_train = X[:index]\n",
    "X_test  = X[index:]\n",
    "y_train = y[:index]\n",
    "y_test  = y[index:]\n",
    "\n"
   ]
  },
  {
   "cell_type": "code",
   "execution_count": 10,
   "metadata": {},
   "outputs": [],
   "source": [
    "#Objective 7.\n",
    "#Instantiate the Logistic Regression model object, and use its \".fit(*args)\" method to fit the model to the \n",
    "#training data.\n",
    "\n",
    "logistic = LogisticRegression()\n",
    "logistic = logistic.fit(X_train,y_train)"
   ]
  },
  {
   "cell_type": "code",
   "execution_count": 11,
   "metadata": {},
   "outputs": [
    {
     "data": {
      "text/html": [
       "<div>\n",
       "<style scoped>\n",
       "    .dataframe tbody tr th:only-of-type {\n",
       "        vertical-align: middle;\n",
       "    }\n",
       "\n",
       "    .dataframe tbody tr th {\n",
       "        vertical-align: top;\n",
       "    }\n",
       "\n",
       "    .dataframe thead th {\n",
       "        text-align: right;\n",
       "    }\n",
       "</style>\n",
       "<table border=\"1\" class=\"dataframe\">\n",
       "  <thead>\n",
       "    <tr style=\"text-align: right;\">\n",
       "      <th></th>\n",
       "      <th>column</th>\n",
       "      <th>b</th>\n",
       "    </tr>\n",
       "  </thead>\n",
       "  <tbody>\n",
       "    <tr>\n",
       "      <th>0</th>\n",
       "      <td>Open</td>\n",
       "      <td>-0.069856</td>\n",
       "    </tr>\n",
       "    <tr>\n",
       "      <th>1</th>\n",
       "      <td>High</td>\n",
       "      <td>-0.085211</td>\n",
       "    </tr>\n",
       "    <tr>\n",
       "      <th>2</th>\n",
       "      <td>Low</td>\n",
       "      <td>0.093167</td>\n",
       "    </tr>\n",
       "    <tr>\n",
       "      <th>3</th>\n",
       "      <td>Close</td>\n",
       "      <td>0.091455</td>\n",
       "    </tr>\n",
       "    <tr>\n",
       "      <th>4</th>\n",
       "      <td>Close_15_Rolling</td>\n",
       "      <td>0.027074</td>\n",
       "    </tr>\n",
       "    <tr>\n",
       "      <th>5</th>\n",
       "      <td>Open_1_Change</td>\n",
       "      <td>-0.031182</td>\n",
       "    </tr>\n",
       "  </tbody>\n",
       "</table>\n",
       "</div>"
      ],
      "text/plain": [
       "             column         b\n",
       "0              Open -0.069856\n",
       "1              High -0.085211\n",
       "2               Low  0.093167\n",
       "3             Close  0.091455\n",
       "4  Close_15_Rolling  0.027074\n",
       "5     Open_1_Change -0.031182"
      ]
     },
     "execution_count": 11,
     "metadata": {},
     "output_type": "execute_result"
    }
   ],
   "source": [
    "#Objective 8.\n",
    "#Examine the model's coefficients by using its \".coef_\" method.\n",
    "\n",
    "pd.DataFrame({'column':X.columns.values, 'b':logistic.coef_.ravel()})"
   ]
  },
  {
   "cell_type": "code",
   "execution_count": 12,
   "metadata": {},
   "outputs": [],
   "source": [
    "#Objective 9.\n",
    "#Use the model's \".predict_proba(*args)\" and \".predict(*args)\" methods to generate predictions over the test set.\n",
    "\n",
    "probabilities = logistic.predict_proba(X_test)\n",
    "predictions =  logistic.predict(X_test)"
   ]
  },
  {
   "cell_type": "code",
   "execution_count": 13,
   "metadata": {},
   "outputs": [
    {
     "data": {
      "text/plain": [
       "array([[0.36350803, 0.63649197],\n",
       "       [0.36740772, 0.63259228],\n",
       "       [0.36402731, 0.63597269],\n",
       "       [0.36381277, 0.63618723],\n",
       "       [0.36344354, 0.63655646],\n",
       "       [0.36201689, 0.63798311],\n",
       "       [0.36421736, 0.63578264],\n",
       "       [0.36267584, 0.63732416],\n",
       "       [0.36279683, 0.63720317],\n",
       "       [0.36223628, 0.63776372],\n",
       "       [0.36216594, 0.63783406],\n",
       "       [0.36302485, 0.63697515],\n",
       "       [0.36142605, 0.63857395],\n",
       "       [0.36336648, 0.63663352],\n",
       "       [0.36370769, 0.63629231],\n",
       "       [0.36246668, 0.63753332],\n",
       "       [0.36046587, 0.63953413],\n",
       "       [0.36284521, 0.63715479]])"
      ]
     },
     "execution_count": 13,
     "metadata": {},
     "output_type": "execute_result"
    }
   ],
   "source": [
    "probabilities"
   ]
  },
  {
   "cell_type": "code",
   "execution_count": 14,
   "metadata": {},
   "outputs": [
    {
     "data": {
      "text/plain": [
       "array([[ 0,  8],\n",
       "       [ 0, 10]], dtype=int64)"
      ]
     },
     "execution_count": 14,
     "metadata": {},
     "output_type": "execute_result"
    }
   ],
   "source": [
    "#Objective 10.\n",
    "#Use the function \"metrics.confusion_matrix(*args)\" to create a confusion matrix comparing the predicted and true\n",
    "#classification labels over the test set.\n",
    "\n",
    "sklearn.metrics.confusion_matrix(y_pred=predictions,y_true=y_test)"
   ]
  },
  {
   "cell_type": "code",
   "execution_count": 15,
   "metadata": {},
   "outputs": [
    {
     "data": {
      "text/plain": [
       "0.5555555555555556"
      ]
     },
     "execution_count": 15,
     "metadata": {},
     "output_type": "execute_result"
    }
   ],
   "source": [
    "#Objective 11.\n",
    "#Calculate the model's accuracy on the test set using its \".score(*args)\" method.\n",
    "\n",
    "logistic.score(X_test,y_test)"
   ]
  },
  {
   "cell_type": "code",
   "execution_count": 16,
   "metadata": {},
   "outputs": [
    {
     "data": {
      "text/plain": [
       "array([0.5       , 0.5       , 0.5       , 0.66666667, 0.66666667])"
      ]
     },
     "execution_count": 16,
     "metadata": {},
     "output_type": "execute_result"
    }
   ],
   "source": [
    "#Objective 12.\n",
    "#Use five-fold cross validation to cross-check the accuracy of the model over different held-out test sets.  This\n",
    "#is where you should use the function \"cross_val_score(*args)\".\n",
    "\n",
    "#cross_val = #TODO\n",
    "cross_val_score(logistic, X_test, y_test, cv=5)"
   ]
  },
  {
   "cell_type": "markdown",
   "metadata": {},
   "source": [
    "# Thank you"
   ]
  }
 ],
 "metadata": {
  "kernelspec": {
   "display_name": "Python 3",
   "language": "python",
   "name": "python3"
  },
  "language_info": {
   "codemirror_mode": {
    "name": "ipython",
    "version": 3
   },
   "file_extension": ".py",
   "mimetype": "text/x-python",
   "name": "python",
   "nbconvert_exporter": "python",
   "pygments_lexer": "ipython3",
   "version": "3.8.8"
  }
 },
 "nbformat": 4,
 "nbformat_minor": 4
}
