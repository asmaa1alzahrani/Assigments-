{
 "cells": [
  {
   "cell_type": "markdown",
   "id": "7e902c12-3d63-48c8-8e25-904b956b7aa0",
   "metadata": {},
   "source": [
    "# Basic Blockchain in Python\n",
    "\n",
    "# Asmaa Alzahrani\n",
    "## 12/8/2021"
   ]
  },
  {
   "cell_type": "code",
   "execution_count": 1,
   "id": "4dde97d5-dab4-4e57-bd53-1ed839c7421d",
   "metadata": {},
   "outputs": [],
   "source": [
    "from hashlib import sha256\n",
    "import time \n",
    "import json\n",
    "from typing import List"
   ]
  },
  {
   "cell_type": "code",
   "execution_count": 2,
   "id": "3a6220f5-65f0-48c5-a0a2-1a6713dd2321",
   "metadata": {},
   "outputs": [],
   "source": [
    "      \n",
    "class Block():\n",
    "    def __init__(self,\n",
    "                index = 0,\n",
    "                transactions:list = [],\n",
    "                timestamp:int = 0,\n",
    "                property_hash:str = \"\",\n",
    "                previous_hash:str = \"\",\n",
    "                nonce:int = 0):\n",
    "        self.index:int = index\n",
    "        self.transactions:list = transactions\n",
    "        self.timestamp:int = timestamp\n",
    "        self.property_hash:str = property_hash\n",
    "        self.previous_hash:str = previous_hash\n",
    "        self.nonce:int = nonce\n",
    "            \n",
    "            \n",
    "    def compute_hash(self):\n",
    "        block_string = json.dumps(self.__dict__, sort_keys=True)\n",
    "        return sha256(block_string.encode()).hexdigest()   "
   ]
  },
  {
   "cell_type": "code",
   "execution_count": 3,
   "id": "6526055f-1b27-410c-a0b2-f346307b2bcb",
   "metadata": {},
   "outputs": [
    {
     "data": {
      "text/plain": [
       "'Thu Dec  9 16:38:37 2021'"
      ]
     },
     "execution_count": 3,
     "metadata": {},
     "output_type": "execute_result"
    }
   ],
   "source": [
    "time.asctime()"
   ]
  },
  {
   "cell_type": "code",
   "execution_count": 4,
   "id": "6f328950-bc4e-4050-aee5-eaf5cb400318",
   "metadata": {},
   "outputs": [],
   "source": [
    "tx_1 = {\n",
    "   \"addr_from\": \"3J98t1WpEZ73CNmQviecrnyiWrnqRhWNLy\",\n",
    "   \"addr_to\": \"1BvBMSEYstWetqTFn5Au4m4GFg7xJaNVN2\",   \n",
    "   \"amount\": 99.00\n",
    "}"
   ]
  },
  {
   "cell_type": "markdown",
   "id": "17735c39-6566-437a-91cb-f3855f1a1119",
   "metadata": {},
   "source": [
    "# Defining our Blockchain class"
   ]
  },
  {
   "cell_type": "code",
   "execution_count": 5,
   "id": "888d573f-53ff-4ddc-9e8a-d79aa15cdaf8",
   "metadata": {},
   "outputs": [
    {
     "ename": "SyntaxError",
     "evalue": "invalid syntax (<ipython-input-5-629f12704df1>, line 18)",
     "output_type": "error",
     "traceback": [
      "\u001b[1;36m  File \u001b[1;32m\"<ipython-input-5-629f12704df1>\"\u001b[1;36m, line \u001b[1;32m18\u001b[0m\n\u001b[1;33m    self.chain.append(genesis_block)\u001b[0m\n\u001b[1;37m    ^\u001b[0m\n\u001b[1;31mSyntaxError\u001b[0m\u001b[1;31m:\u001b[0m invalid syntax\n"
     ]
    }
   ],
   "source": [
    "class Blockchain(): \n",
    "    def __init__(self):\n",
    "        self.unconfirmed_transactions:list[dict] = []\n",
    "        self.chain:list[Block] = []\n",
    "        self.difficulty=2\n",
    "        self.create_genesis_block()\n",
    "        \n",
    "    def get_last_block(self) -> Block:\n",
    "        return self.chain[-1]\n",
    " \n",
    "    def create_genesis_block(self):\n",
    "        genesis_block = Block(index=0,\n",
    "                                transactions=[],\n",
    "                                timestamp=time.time(),\n",
    "                                previous_hash=\"0\")\n",
    "                                #property_hash=\"\", nonce=0)\n",
    "        genesis_block.hash = genesis_block.compute_hash()\n",
    "        self.chain.append(genesis_block)\n",
    "    \n",
    "    def proof_of_work(self, block:Block) -> str:\n",
    "        computed_hash = block.compute_hash()\n",
    "        while not computed_hash.startswith('0' * self.difficulty):\n",
    "            block.nonce += 1\n",
    "            computed_hash = block.compute_hash()\n",
    "        return computed_hash\n",
    "    \n",
    "    def add_block(self, block:Block, proof:str) -> bool:\n",
    "        last_block = self.get_last_block()\n",
    "        \n",
    "        if last_block.compute_hash() != block.previous_hash:\n",
    "            return False\n",
    "        \n",
    "        if not self.is_valid_proof(block, proof):\n",
    "            return False\n",
    "        \n",
    "        \n",
    "        self.chain.append(block)\n",
    "        \n",
    "        return True\n",
    "    \n",
    "    \n",
    "    \n",
    "    def is_valid_proof(self, block:Block, proof:str) -> bool:\n",
    "        return proof.startswith('0' * self.difficulty) and proof == block.compute_hash()\n",
    "    \n",
    "    \n",
    "    def add_new_transaction(self, transaction:dict) -> None:\n",
    "            self.unconfirmed_transactions.append(transaction)\n",
    "            \n",
    "    def mine(self) -> int:\n",
    "        if len(self.unconfirmed_transactions)<1:\n",
    "            return -1\n",
    "        \n",
    "        last_block = self.get_last_block()\n",
    "        self.unconfirmed_transactions.append(tx_1)\n",
    " \n",
    "        new_block = Block(index=last_block.index+1,\n",
    "                          transactions=self.unconfirmed_transactions,\n",
    "                          timestamp=(time.asctime()),\n",
    "                          previous_hash=last_block.property_hash)\n",
    "    \n",
    "        proof = self.proof_of_work(new_block)\n",
    "        if not self.add_block(new_block, proof):\n",
    "            return -1\n",
    "        #self.add_block(new_block, property_hash)\n",
    "        self.unconfirmed_transactions = []\n",
    "        \n",
    "        \n",
    "        return new_block.index\n"
   ]
  }
 ],
 "metadata": {
  "kernelspec": {
   "display_name": "Python 3",
   "language": "python",
   "name": "python3"
  },
  "language_info": {
   "codemirror_mode": {
    "name": "ipython",
    "version": 3
   },
   "file_extension": ".py",
   "mimetype": "text/x-python",
   "name": "python",
   "nbconvert_exporter": "python",
   "pygments_lexer": "ipython3",
   "version": "3.8.8"
  }
 },
 "nbformat": 4,
 "nbformat_minor": 5
}
