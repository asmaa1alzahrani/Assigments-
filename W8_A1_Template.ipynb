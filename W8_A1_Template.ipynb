{
 "cells": [
  {
   "cell_type": "markdown",
   "metadata": {},
   "source": [
    "# Quantum Stock Picking and Quantum Portfolio Optimization\n"
   ]
  },
  {
   "cell_type": "markdown",
   "metadata": {},
   "source": [
    "## Asmaa Alzahrani"
   ]
  },
  {
   "cell_type": "markdown",
   "metadata": {},
   "source": [
    "## 12/01/2021"
   ]
  },
  {
   "cell_type": "markdown",
   "metadata": {
    "jp-MarkdownHeadingCollapsed": true,
    "tags": []
   },
   "source": [
    "## Introduction\n",
    "\n",
    "This assignment will shows how we can use mean-variance optimization to pick stocks for a problem for $n$ assets:\n",
    "\n",
    "$$\\begin{aligned}\n",
    "\\min_{x \\in \\{0, 1\\}^n}  q x^T \\Sigma x - \\mu^T x\\\\\n",
    "\\text{subject to: } 1^T x = B\n",
    "\\end{aligned}$$\n",
    "\n",
    "where we use the following notation:\n",
    "\n",
    "- $x \\in \\{0, 1\\}^n$ denotes the vector of binary decision variables, which indicate which assets to pick ($x[i] = 1$) and which not to pick ($x[i] = 0$),\n",
    "- $\\mu \\in \\mathbb{R}^n$ defines the expected returns for the assets,\n",
    "- $\\Sigma \\in \\mathbb{R}^{n \\times n}$ specifies the covariances between the assets,\n",
    "- $q > 0$ controls the risk appetite of the decision maker,\n",
    "- and $B$ denotes the budget, i.e. the number of assets to be selected out of $n$.\n",
    "\n",
    "We assume the following simplifications:\n",
    "- all assets have the same price (normalized to 1),\n",
    "- the full budget $B$ has to be spent, i.e. one has to select exactly $B$ assets.\n",
    "\n",
    "The equality constraint $1^T x = B$ is mapped to a penalty term $(1^T x - B)^2$ which is scaled by a parameter and subtracted from the objective function. \n",
    "The resulting problem can be mapped to a Hamiltonian whose ground state corresponds to  the optimal solution.\n",
    "This notebook shows how to use the Variational Quantum Eigensolver (VQE) to find the optimal solution for a given set of parameters.\n",
    "\n",
    "Experiments on real quantum hardware for this problem are reported for instance in the following paper:\n",
    "<br>\n",
    "[Improving Variational Quantum Optimization using CVaR. Barkoutsos et al. 2019.](https://arxiv.org/abs/1907.04769)\n",
    "\n",
    "Note: We are not using CVaR as a portfolio statistic here, rather as a heuristic in our VQE procedure, curious students are encouraged to read the paper above."
   ]
  },
  {
   "cell_type": "markdown",
   "metadata": {},
   "source": [
    "#### To Students: Complete the following sections labeled todo"
   ]
  },
  {
   "cell_type": "code",
   "execution_count": 1,
   "metadata": {
    "ExecuteTime": {
     "end_time": "2020-07-13T20:35:05.710593Z",
     "start_time": "2020-07-13T20:34:57.647535Z"
    }
   },
   "outputs": [],
   "source": [
    "from qiskit import Aer\n",
    "from qiskit.algorithms import VQE, QAOA, NumPyMinimumEigensolver\n",
    "from qiskit.algorithms.optimizers import COBYLA\n",
    "from qiskit.circuit.library import TwoLocal\n",
    "from qiskit.utils import QuantumInstance\n",
    "from qiskit_finance.applications.optimization import PortfolioOptimization\n",
    "from qiskit_finance.data_providers import RandomDataProvider, YahooDataProvider\n",
    "from qiskit_optimization.algorithms import MinimumEigenOptimizer\n",
    "from qiskit_optimization.applications import OptimizationApplication\n",
    "from qiskit_optimization.converters import QuadraticProgramToQubo\n",
    "from qiskit.utils import algorithm_globals\n",
    "\n",
    "import numpy as np\n",
    "import matplotlib.pyplot as plt\n",
    "import datetime\n",
    "import pandas\n",
    "import pandas as pd\n",
    "\n",
    "def index_to_selection(i, num_assets):\n",
    "    s = \"{0:b}\".format(i).rjust(num_assets)\n",
    "    x = np.array([1 if s[i]=='1' else 0 for i in reversed(range(num_assets))])\n",
    "    return x\n",
    "\n",
    "def print_result(result):\n",
    "    selection = result.x\n",
    "    value = result.fval\n",
    "    print('Optimal: selection {}, value {:.4f}'.format(selection, value))\n",
    "    \n",
    "    eigenstate = result.min_eigen_solver_result.eigenstate\n",
    "    eigenvector = eigenstate if isinstance(eigenstate, np.ndarray) else eigenstate.to_matrix()\n",
    "    probabilities = np.abs(eigenvector)**2\n",
    "    i_sorted = reversed(np.argsort(probabilities))\n",
    "    print('\\n----------------- Full result ---------------------')\n",
    "    print('selection\\tvalue\\t\\tprobability')\n",
    "    print('---------------------------------------------------')\n",
    "    for i in i_sorted:\n",
    "        x = index_to_selection(i, num_assets)\n",
    "        value = QuadraticProgramToQubo().convert(qp).objective.evaluate(x)\n",
    "        #value = portfolio.to_quadratic_program().objective.evaluate(x)\n",
    "        probability = probabilities[i]\n",
    "        print('%10s\\t%.4f\\t\\t%.4f' %(x, value, probability))"
   ]
  },
  {
   "cell_type": "code",
   "execution_count": 2,
   "metadata": {},
   "outputs": [],
   "source": [
    "#global random seed used throuhgout\n",
    "seed = 123"
   ]
  },
  {
   "cell_type": "code",
   "execution_count": 3,
   "metadata": {
    "ExecuteTime": {
     "end_time": "2020-07-13T20:35:15.224327Z",
     "start_time": "2020-07-13T20:35:15.213892Z"
    }
   },
   "outputs": [],
   "source": [
    "# Generate expected return and covariance matrix from (random) time-series\n",
    "\n",
    "#Todo pick candidate stocks, 3-8 are recommended, stick to 4 if you're going to submit a real quantum experiment to IBM's cloud:\n",
    "\n",
    "stocks = ['ACN','NVDA','GOOGL','MSFT','AMZN']\n",
    "\n",
    "# Here are some quantum themed stocks :) \n",
    "# ['IBM','AMD','ACN','NVDA','GOOGL','MSFT','AMZN','MU','BABA']\n",
    "# Feel free to pick any in this list or beyond\n",
    "    \n",
    "num_assets = len(stocks)\n",
    "\n",
    "#IBM has done us a favour and provided a cute data provider they designed.\n",
    "data = YahooDataProvider(tickers=stocks,\n",
    "                 start=pandas.Timestamp(2016,4,1),\n",
    "                 end=pandas.Timestamp.now())\n",
    "data.run()\n",
    "\n",
    "# Here we pull apart the IBM qiskit_finance.data_provider internals to retreive our data and format as a pandas DataFrame\n",
    "df = pandas.DataFrame({data._tickers[tidx]:data._data[tidx] for tidx in range(len(data._tickers))})\n",
    "\n",
    "# Provided by IBM\n",
    "mu = data.get_period_return_mean_vector()\n",
    "sigma = data.get_period_return_covariance_matrix()"
   ]
  },
  {
   "cell_type": "code",
   "execution_count": 4,
   "metadata": {},
   "outputs": [
    {
     "data": {
      "text/html": [
       "<div>\n",
       "<style scoped>\n",
       "    .dataframe tbody tr th:only-of-type {\n",
       "        vertical-align: middle;\n",
       "    }\n",
       "\n",
       "    .dataframe tbody tr th {\n",
       "        vertical-align: top;\n",
       "    }\n",
       "\n",
       "    .dataframe thead th {\n",
       "        text-align: right;\n",
       "    }\n",
       "</style>\n",
       "<table border=\"1\" class=\"dataframe\">\n",
       "  <thead>\n",
       "    <tr style=\"text-align: right;\">\n",
       "      <th></th>\n",
       "      <th>ACN</th>\n",
       "      <th>NVDA</th>\n",
       "      <th>GOOGL</th>\n",
       "      <th>MSFT</th>\n",
       "      <th>AMZN</th>\n",
       "    </tr>\n",
       "    <tr>\n",
       "      <th>Date</th>\n",
       "      <th></th>\n",
       "      <th></th>\n",
       "      <th></th>\n",
       "      <th></th>\n",
       "      <th></th>\n",
       "    </tr>\n",
       "  </thead>\n",
       "  <tbody>\n",
       "    <tr>\n",
       "      <th>2016-04-01</th>\n",
       "      <td>105.425140</td>\n",
       "      <td>8.867188</td>\n",
       "      <td>769.669983</td>\n",
       "      <td>50.648914</td>\n",
       "      <td>598.500000</td>\n",
       "    </tr>\n",
       "    <tr>\n",
       "      <th>2016-04-04</th>\n",
       "      <td>104.654953</td>\n",
       "      <td>8.781335</td>\n",
       "      <td>765.119995</td>\n",
       "      <td>50.521320</td>\n",
       "      <td>593.190002</td>\n",
       "    </tr>\n",
       "    <tr>\n",
       "      <th>2016-04-05</th>\n",
       "      <td>103.413605</td>\n",
       "      <td>8.769072</td>\n",
       "      <td>758.570007</td>\n",
       "      <td>49.728359</td>\n",
       "      <td>586.140015</td>\n",
       "    </tr>\n",
       "    <tr>\n",
       "      <th>2016-04-06</th>\n",
       "      <td>103.902893</td>\n",
       "      <td>8.781335</td>\n",
       "      <td>768.070007</td>\n",
       "      <td>50.238773</td>\n",
       "      <td>602.080017</td>\n",
       "    </tr>\n",
       "    <tr>\n",
       "      <th>2016-04-07</th>\n",
       "      <td>101.574219</td>\n",
       "      <td>8.690578</td>\n",
       "      <td>760.119995</td>\n",
       "      <td>49.637230</td>\n",
       "      <td>591.429993</td>\n",
       "    </tr>\n",
       "    <tr>\n",
       "      <th>...</th>\n",
       "      <td>...</td>\n",
       "      <td>...</td>\n",
       "      <td>...</td>\n",
       "      <td>...</td>\n",
       "      <td>...</td>\n",
       "    </tr>\n",
       "    <tr>\n",
       "      <th>2021-11-24</th>\n",
       "      <td>362.369995</td>\n",
       "      <td>326.699982</td>\n",
       "      <td>2922.399902</td>\n",
       "      <td>337.910004</td>\n",
       "      <td>3580.409912</td>\n",
       "    </tr>\n",
       "    <tr>\n",
       "      <th>2021-11-26</th>\n",
       "      <td>353.600006</td>\n",
       "      <td>314.991425</td>\n",
       "      <td>2843.659912</td>\n",
       "      <td>329.679993</td>\n",
       "      <td>3504.560059</td>\n",
       "    </tr>\n",
       "    <tr>\n",
       "      <th>2021-11-29</th>\n",
       "      <td>365.820007</td>\n",
       "      <td>333.719147</td>\n",
       "      <td>2910.610107</td>\n",
       "      <td>336.630005</td>\n",
       "      <td>3561.570068</td>\n",
       "    </tr>\n",
       "    <tr>\n",
       "      <th>2021-11-30</th>\n",
       "      <td>357.399994</td>\n",
       "      <td>326.720001</td>\n",
       "      <td>2837.949951</td>\n",
       "      <td>330.589996</td>\n",
       "      <td>3507.070068</td>\n",
       "    </tr>\n",
       "    <tr>\n",
       "      <th>2021-12-01</th>\n",
       "      <td>360.140015</td>\n",
       "      <td>314.350006</td>\n",
       "      <td>2821.030029</td>\n",
       "      <td>330.079987</td>\n",
       "      <td>3443.719971</td>\n",
       "    </tr>\n",
       "  </tbody>\n",
       "</table>\n",
       "<p>1429 rows × 5 columns</p>\n",
       "</div>"
      ],
      "text/plain": [
       "                   ACN        NVDA        GOOGL        MSFT         AMZN\n",
       "Date                                                                    \n",
       "2016-04-01  105.425140    8.867188   769.669983   50.648914   598.500000\n",
       "2016-04-04  104.654953    8.781335   765.119995   50.521320   593.190002\n",
       "2016-04-05  103.413605    8.769072   758.570007   49.728359   586.140015\n",
       "2016-04-06  103.902893    8.781335   768.070007   50.238773   602.080017\n",
       "2016-04-07  101.574219    8.690578   760.119995   49.637230   591.429993\n",
       "...                ...         ...          ...         ...          ...\n",
       "2021-11-24  362.369995  326.699982  2922.399902  337.910004  3580.409912\n",
       "2021-11-26  353.600006  314.991425  2843.659912  329.679993  3504.560059\n",
       "2021-11-29  365.820007  333.719147  2910.610107  336.630005  3561.570068\n",
       "2021-11-30  357.399994  326.720001  2837.949951  330.589996  3507.070068\n",
       "2021-12-01  360.140015  314.350006  2821.030029  330.079987  3443.719971\n",
       "\n",
       "[1429 rows x 5 columns]"
      ]
     },
     "execution_count": 4,
     "metadata": {},
     "output_type": "execute_result"
    }
   ],
   "source": [
    "df"
   ]
  },
  {
   "cell_type": "code",
   "execution_count": 5,
   "metadata": {},
   "outputs": [
    {
     "data": {
      "text/plain": [
       "array([[0.00023068, 0.00020887, 0.00015448, 0.00017429, 0.00012732],\n",
       "       [0.00020887, 0.00088106, 0.00027102, 0.00030256, 0.00028577],\n",
       "       [0.00015448, 0.00027102, 0.00027044, 0.00021441, 0.00019553],\n",
       "       [0.00017429, 0.00030256, 0.00021441, 0.00028153, 0.00020989],\n",
       "       [0.00012732, 0.00028577, 0.00019553, 0.00020989, 0.00032884]])"
      ]
     },
     "execution_count": 5,
     "metadata": {},
     "output_type": "execute_result"
    }
   ],
   "source": [
    "sigma"
   ]
  },
  {
   "cell_type": "code",
   "execution_count": 6,
   "metadata": {},
   "outputs": [
    {
     "data": {
      "text/plain": [
       "array([0.00097566, 0.00293892, 0.00104538, 0.00145429, 0.00138982])"
      ]
     },
     "execution_count": 6,
     "metadata": {},
     "output_type": "execute_result"
    }
   ],
   "source": [
    "mu"
   ]
  },
  {
   "cell_type": "code",
   "execution_count": 7,
   "metadata": {
    "ExecuteTime": {
     "end_time": "2020-07-13T20:35:15.231767Z",
     "start_time": "2020-07-13T20:35:15.226490Z"
    }
   },
   "outputs": [
    {
     "data": {
      "text/plain": [
       "\\ This file has been generated by DOcplex\n",
       "\\ ENCODING=ISO-8859-1\n",
       "\\Problem name: Portfolio optimization\n",
       "\n",
       "Minimize\n",
       " obj: - 0.000975664625 x_0 - 0.002938922014 x_1 - 0.001045379255 x_2\n",
       "      - 0.001454285917 x_3 - 0.001389821222 x_4 + [ 0.000230684753 x_0^2\n",
       "      + 0.000417749683 x_0*x_1 + 0.000308966535 x_0*x_2 + 0.000348578850 x_0*x_3\n",
       "      + 0.000254646283 x_0*x_4 + 0.000881062498 x_1^2 + 0.000542048090 x_1*x_2\n",
       "      + 0.000605118284 x_1*x_3 + 0.000571547759 x_1*x_4 + 0.000270439203 x_2^2\n",
       "      + 0.000428819527 x_2*x_3 + 0.000391064971 x_2*x_4 + 0.000281534892 x_3^2\n",
       "      + 0.000419773734 x_3*x_4 + 0.000328837295 x_4^2 ]/2\n",
       "Subject To\n",
       " c0: x_0 + x_1 + x_2 + x_3 + x_4 = 2\n",
       "\n",
       "Bounds\n",
       " 0 <= x_0 <= 1\n",
       " 0 <= x_1 <= 1\n",
       " 0 <= x_2 <= 1\n",
       " 0 <= x_3 <= 1\n",
       " 0 <= x_4 <= 1\n",
       "\n",
       "Binaries\n",
       " x_0 x_1 x_2 x_3 x_4\n",
       "End"
      ]
     },
     "execution_count": 7,
     "metadata": {},
     "output_type": "execute_result"
    }
   ],
   "source": [
    "q = 0.50                   #  risk appetite \n",
    "budget = num_assets  //2   #  stocks to allocate\n",
    "penalty = num_assets       #  set parameter to scale the budget penalty term\n",
    "bounds = None              #  Allocation percent: None: 100%\n",
    "\n",
    "portfolio = PortfolioOptimization(expected_returns=mu, covariances=sigma, risk_factor=q, budget=budget,bounds=bounds)\n",
    "qp = portfolio.to_quadratic_program()\n",
    "qp"
   ]
  },
  {
   "cell_type": "markdown",
   "metadata": {
    "tags": []
   },
   "source": [
    "## Solution using VQE\n",
    "We can now use the Variational Quantum Eigensolver (VQE) to solve the problem. We will specify the optimizer and variational form to be used.\n",
    "\n",
    "Note: You can switch to different backends by providing the name of backend."
   ]
  },
  {
   "cell_type": "code",
   "execution_count": 8,
   "metadata": {
    "ExecuteTime": {
     "end_time": "2020-07-13T20:35:26.536878Z",
     "start_time": "2020-07-13T20:35:24.379996Z"
    }
   },
   "outputs": [
    {
     "name": "stderr",
     "output_type": "stream",
     "text": [
      "/opt/conda/lib/python3.8/site-packages/sympy/core/expr.py:3949: SymPyDeprecationWarning: \n",
      "\n",
      "expr_free_symbols method has been deprecated since SymPy 1.9. See\n",
      "https://github.com/sympy/sympy/issues/21494 for more info.\n",
      "\n",
      "  SymPyDeprecationWarning(feature=\"expr_free_symbols method\",\n"
     ]
    },
    {
     "name": "stdout",
     "output_type": "stream",
     "text": [
      "-0.0035093500936670095\n",
      "Optimal: selection [0. 1. 0. 1. 0.], value -0.0035\n",
      "\n",
      "----------------- Full result ---------------------\n",
      "selection\tvalue\t\tprobability\n",
      "---------------------------------------------------\n",
      "[0 0 1 0 1]\t-0.0019\t\t0.5834\n",
      "[0 1 1 0 0]\t-0.0031\t\t0.4115\n",
      "[1 1 0 0 0]\t-0.0031\t\t0.0027\n",
      "[1 0 0 0 1]\t-0.0020\t\t0.0009\n",
      "[0 1 0 1 0]\t-0.0035\t\t0.0005\n",
      "[0 0 0 1 1]\t-0.0023\t\t0.0004\n",
      "[0 1 0 0 1]\t-0.0034\t\t0.0003\n",
      "[1 1 1 0 0]\t1.0073\t\t0.0002\n",
      "[1 0 1 0 1]\t1.0084\t\t0.0001\n",
      "[1 0 1 0 0]\t-0.0016\t\t0.0001\n",
      "[1 1 0 0 1]\t1.0070\t\t0.0000\n",
      "[1 0 0 0 0]\t1.0101\t\t0.0000\n",
      "[1 0 0 1 1]\t1.0081\t\t0.0000\n",
      "[1 1 0 1 0]\t1.0070\t\t0.0000\n",
      "[1 1 1 1 0]\t4.0395\t\t0.0000\n",
      "[1 0 1 1 1]\t4.0405\t\t0.0000\n",
      "[0 0 0 0 1]\t1.0097\t\t0.0000\n",
      "[0 0 0 1 0]\t1.0096\t\t0.0000\n",
      "[0 1 1 0 1]\t1.0071\t\t0.0000\n",
      "[0 0 0 0 0]\t4.0438\t\t0.0000\n",
      "[1 1 1 0 1]\t4.0395\t\t0.0000\n",
      "[1 0 0 1 0]\t-0.0020\t\t0.0000\n",
      "[0 0 1 1 0]\t-0.0020\t\t0.0000\n",
      "[0 0 1 1 1]\t1.0081\t\t0.0000\n",
      "[0 1 0 0 0]\t1.0084\t\t0.0000\n",
      "[0 1 0 1 1]\t1.0067\t\t0.0000\n",
      "[0 0 1 0 0]\t1.0100\t\t0.0000\n",
      "[0 1 1 1 0]\t1.0070\t\t0.0000\n",
      "[1 0 1 1 0]\t1.0084\t\t0.0000\n",
      "[0 1 1 1 1]\t4.0393\t\t0.0000\n",
      "[1 1 1 1 1]\t9.0938\t\t0.0000\n",
      "[1 1 0 1 1]\t4.0392\t\t0.0000\n"
     ]
    }
   ],
   "source": [
    "algorithm_globals.random_seed = seed+1\n",
    "backend = Aer.get_backend('statevector_simulator')\n",
    "\n",
    "\n",
    "cobyla = COBYLA()\n",
    "cobyla.set_options(maxiter=500)\n",
    "\n",
    "ry = TwoLocal(num_assets, 'ry', 'cz', reps=3, entanglement='full')\n",
    "\n",
    "quantum_instance = QuantumInstance(backend=backend, seed_simulator=seed, seed_transpiler=seed)\n",
    "\n",
    "vqe_mes = VQE(ry, optimizer=cobyla, quantum_instance=quantum_instance)\n",
    "vqe = MinimumEigenOptimizer(vqe_mes)\n",
    "\n",
    "result = vqe.solve(qp)\n",
    "\n",
    "\n",
    "print(result.fval)\n",
    "print_result(result)"
   ]
  },
  {
   "cell_type": "code",
   "execution_count": 9,
   "metadata": {},
   "outputs": [
    {
     "name": "stdout",
     "output_type": "stream",
     "text": [
      "Stocks from our Qunatum Stock Picking algorthm selected: ['NVDA', 'MSFT']\n"
     ]
    }
   ],
   "source": [
    "selected_stocks = list(np.array(stocks)[result.x.astype('bool')])\n",
    "print(f\"Stocks from our Qunatum Stock Picking algorthm selected: {selected_stocks}\")"
   ]
  },
  {
   "cell_type": "markdown",
   "metadata": {},
   "source": [
    "### Student todo, complete an equity curve, CAGR and IR comparison for the portfolio of all the stocks you selected for optimization compared to one which your Quantum Stock picker put together\n",
    "\n",
    "hints:\n",
    "\n",
    "\n",
    "df[selected_stocks] contains a data frame with your stock pick prices.   \n",
    "df is the full list of stocks you started with."
   ]
  },
  {
   "cell_type": "code",
   "execution_count": 10,
   "metadata": {},
   "outputs": [],
   "source": [
    "df_selected=df[selected_stocks]"
   ]
  },
  {
   "cell_type": "code",
   "execution_count": 11,
   "metadata": {},
   "outputs": [
    {
     "data": {
      "text/html": [
       "<div>\n",
       "<style scoped>\n",
       "    .dataframe tbody tr th:only-of-type {\n",
       "        vertical-align: middle;\n",
       "    }\n",
       "\n",
       "    .dataframe tbody tr th {\n",
       "        vertical-align: top;\n",
       "    }\n",
       "\n",
       "    .dataframe thead th {\n",
       "        text-align: right;\n",
       "    }\n",
       "</style>\n",
       "<table border=\"1\" class=\"dataframe\">\n",
       "  <thead>\n",
       "    <tr style=\"text-align: right;\">\n",
       "      <th></th>\n",
       "      <th>NVDA</th>\n",
       "      <th>MSFT</th>\n",
       "    </tr>\n",
       "    <tr>\n",
       "      <th>Date</th>\n",
       "      <th></th>\n",
       "      <th></th>\n",
       "    </tr>\n",
       "  </thead>\n",
       "  <tbody>\n",
       "    <tr>\n",
       "      <th>2016-04-01</th>\n",
       "      <td>8.867188</td>\n",
       "      <td>50.648914</td>\n",
       "    </tr>\n",
       "    <tr>\n",
       "      <th>2016-04-04</th>\n",
       "      <td>8.781335</td>\n",
       "      <td>50.521320</td>\n",
       "    </tr>\n",
       "    <tr>\n",
       "      <th>2016-04-05</th>\n",
       "      <td>8.769072</td>\n",
       "      <td>49.728359</td>\n",
       "    </tr>\n",
       "    <tr>\n",
       "      <th>2016-04-06</th>\n",
       "      <td>8.781335</td>\n",
       "      <td>50.238773</td>\n",
       "    </tr>\n",
       "    <tr>\n",
       "      <th>2016-04-07</th>\n",
       "      <td>8.690578</td>\n",
       "      <td>49.637230</td>\n",
       "    </tr>\n",
       "    <tr>\n",
       "      <th>...</th>\n",
       "      <td>...</td>\n",
       "      <td>...</td>\n",
       "    </tr>\n",
       "    <tr>\n",
       "      <th>2021-11-24</th>\n",
       "      <td>326.699982</td>\n",
       "      <td>337.910004</td>\n",
       "    </tr>\n",
       "    <tr>\n",
       "      <th>2021-11-26</th>\n",
       "      <td>314.991425</td>\n",
       "      <td>329.679993</td>\n",
       "    </tr>\n",
       "    <tr>\n",
       "      <th>2021-11-29</th>\n",
       "      <td>333.719147</td>\n",
       "      <td>336.630005</td>\n",
       "    </tr>\n",
       "    <tr>\n",
       "      <th>2021-11-30</th>\n",
       "      <td>326.720001</td>\n",
       "      <td>330.589996</td>\n",
       "    </tr>\n",
       "    <tr>\n",
       "      <th>2021-12-01</th>\n",
       "      <td>314.350006</td>\n",
       "      <td>330.079987</td>\n",
       "    </tr>\n",
       "  </tbody>\n",
       "</table>\n",
       "<p>1429 rows × 2 columns</p>\n",
       "</div>"
      ],
      "text/plain": [
       "                  NVDA        MSFT\n",
       "Date                              \n",
       "2016-04-01    8.867188   50.648914\n",
       "2016-04-04    8.781335   50.521320\n",
       "2016-04-05    8.769072   49.728359\n",
       "2016-04-06    8.781335   50.238773\n",
       "2016-04-07    8.690578   49.637230\n",
       "...                ...         ...\n",
       "2021-11-24  326.699982  337.910004\n",
       "2021-11-26  314.991425  329.679993\n",
       "2021-11-29  333.719147  336.630005\n",
       "2021-11-30  326.720001  330.589996\n",
       "2021-12-01  314.350006  330.079987\n",
       "\n",
       "[1429 rows x 2 columns]"
      ]
     },
     "execution_count": 11,
     "metadata": {},
     "output_type": "execute_result"
    }
   ],
   "source": [
    "df_selected"
   ]
  },
  {
   "cell_type": "code",
   "execution_count": null,
   "metadata": {},
   "outputs": [],
   "source": []
  },
  {
   "cell_type": "code",
   "execution_count": 12,
   "metadata": {},
   "outputs": [
    {
     "name": "stdout",
     "output_type": "stream",
     "text": [
      "IR selection: 1.66\n",
      "IR all: 1.56\n",
      " \n",
      "CAGR selection: 162.66%\n",
      "CAGR all: 140.07% \n"
     ]
    },
    {
     "data": {
      "image/png": "[encoded data removed]",
      "text/plain": [
       "<Figure size 432x288 with 1 Axes>"
      ]
     },
     "metadata": {
      "needs_background": "light"
     },
     "output_type": "display_data"
    }
   ],
   "source": [
    "\n",
    "all_df =df\n",
    "sel_df =df[selected_stocks]\n",
    "\n",
    "\n",
    "all_df_dr = all_df.pct_change().dropna().mean(axis=1)\n",
    "sel_df_dr = sel_df.pct_change().dropna().mean(axis=1)\n",
    "\n",
    "Sto_all= 10000* all_df_dr.add(1).cumprod()\n",
    "Sto_sel= 10000* sel_df_dr.add(1).cumprod()\n",
    "\n",
    "Sto_all.plot()\n",
    "Sto_sel.plot()\n",
    "plt.legend(['All','Selected'])\n",
    "\n",
    "IR_sel = (sel_df_dr.mean() / sel_df_dr.std()) * (252) ** 0.5\n",
    "IR_all = (all_df_dr.mean() / all_df_dr.std()) * (252) ** 0.5\n",
    "\n",
    "\n",
    "print(f\"IR selection: {round(IR_sel,2)}\")\n",
    "print(f\"IR all: {round(IR_all,2)}\\n \")\n",
    "\n",
    "CAGR_selected = 100*((Sto_sel.iloc[-1] / 10000 )-1) ** (252/len(Sto_sel))\n",
    "CAGR_all = 100*((Sto_all.iloc[-1] / 10000 )-1) ** (252/len(Sto_all))\n",
    "\n",
    "print(f\"CAGR selection: {round(CAGR_selected,2)}%\")\n",
    "print(f\"CAGR all: {round(CAGR_all,2)}% \")\n"
   ]
  },
  {
   "cell_type": "markdown",
   "metadata": {},
   "source": [
    "# (Optional) For Advanced Students:\n",
    "\n",
    "## Here we will make some modifications to do portfolio optimization\n",
    "\n",
    "\n",
    "This tutorial shows how to solve the following mean-variance portfolio optimization problem for $n$ assets:\n",
    "\n",
    "$$\\begin{aligned}\n",
    "\\min_{x \\in \\{j ... k\\}^n}  q x^T \\Sigma x - \\mu^T x\\\\\n",
    "\\text{subject to: } 1^T x = B\n",
    "\\end{aligned}$$\n",
    "\n",
    "where we use the following notation:\n",
    "\n",
    "- $x \\in \\{-j, +k\\}^n$ denotes the vector of weight allocation variables, which indicate the relative allocation to assign. \n",
    "- $\\mu \\in \\mathbb{R}^n$ defines the expected returns for the assets,\n",
    "- $\\Sigma \\in \\mathbb{R}^{n \\times n}$ specifies the covariances between the assets,\n",
    "- $q > 0$ controls the risk appetite of the decision maker,\n",
    "- and $B$ denotes the budget, i.e. the number of assets to be selected out of $n$.\n",
    "\n",
    "We assume the following simplifications:\n",
    "- all assets have the same price (normalized to 1),\n",
    "- the full budget $B$ has to be spent, i.e. one has to allocate exactly $B$ relative amounts of asset.\n",
    "\n",
    "The equality constraint $1^T x = B$ is mapped to a penalty term $(1^T x - B)^2$ which is scaled by a parameter and subtracted from the objective function. \n",
    "The resulting problem can be mapped to a Hamiltonian whose ground state corresponds to  the optimal solution.\n",
    "This rest of this notebook shows how to use the Variational Quantum Eigensolver (VQE) an optimal solution for a given set of parameters."
   ]
  },
  {
   "cell_type": "code",
   "execution_count": 13,
   "metadata": {},
   "outputs": [
    {
     "data": {
      "text/plain": [
       "\\ This file has been generated by DOcplex\n",
       "\\ ENCODING=ISO-8859-1\n",
       "\\Problem name: Portfolio optimization\n",
       "\n",
       "Minimize\n",
       " obj: - 0.000975664625 x_0 - 0.002938922014 x_1 - 0.001045379255 x_2\n",
       "      - 0.001454285917 x_3 - 0.001389821222 x_4 + [ 0.000230684753 x_0^2\n",
       "      + 0.000417749683 x_0*x_1 + 0.000308966535 x_0*x_2 + 0.000348578850 x_0*x_3\n",
       "      + 0.000254646283 x_0*x_4 + 0.000881062498 x_1^2 + 0.000542048090 x_1*x_2\n",
       "      + 0.000605118284 x_1*x_3 + 0.000571547759 x_1*x_4 + 0.000270439203 x_2^2\n",
       "      + 0.000428819527 x_2*x_3 + 0.000391064971 x_2*x_4 + 0.000281534892 x_3^2\n",
       "      + 0.000419773734 x_3*x_4 + 0.000328837295 x_4^2 ]/2\n",
       "Subject To\n",
       " c0: x_0 + x_1 + x_2 + x_3 + x_4 = 5\n",
       "\n",
       "Bounds\n",
       " 5 <= x_0 <= 6\n",
       " 5 <= x_1 <= 6\n",
       " 5 <= x_2 <= 6\n",
       " 5 <= x_3 <= 6\n",
       " 5 <= x_4 <= 6\n",
       "\n",
       "Generals\n",
       " x_0 x_1 x_2 x_3 x_4\n",
       "End"
      ]
     },
     "execution_count": 13,
     "metadata": {},
     "output_type": "execute_result"
    }
   ],
   "source": [
    "\n",
    "q = 0.50                   #  risk appetite \n",
    "budget = num_assets        #  Units to allocate\n",
    "penalty = num_assets //2   #  set parameter to scale the budget penalty term\n",
    "bounds = [(5,6)]*num_assets  #  Allocation units, can be negative or positive\n",
    "\n",
    "\n",
    "portfolio = PortfolioOptimization(expected_returns=mu, covariances=sigma, risk_factor=q, budget=budget,bounds=bounds)\n",
    "qp = portfolio.to_quadratic_program()\n",
    "qp"
   ]
  },
  {
   "cell_type": "code",
   "execution_count": 14,
   "metadata": {},
   "outputs": [
    {
     "name": "stderr",
     "output_type": "stream",
     "text": [
      "/opt/conda/lib/python3.8/site-packages/sympy/core/expr.py:3949: SymPyDeprecationWarning: \n",
      "\n",
      "expr_free_symbols method has been deprecated since SymPy 1.9. See\n",
      "https://github.com/sympy/sympy/issues/21494 for more info.\n",
      "\n",
      "  SymPyDeprecationWarning(feature=\"expr_free_symbols method\",\n"
     ]
    }
   ],
   "source": [
    "algorithm_globals.random_seed = seed+1\n",
    "backend = Aer.get_backend('statevector_simulator')\n",
    "\n",
    "\n",
    "cobyla = COBYLA()\n",
    "cobyla.set_options(maxiter=500)\n",
    "\n",
    "ry = TwoLocal(num_assets, 'ry', 'cz', reps=3, entanglement='full')\n",
    "\n",
    "quantum_instance = QuantumInstance(backend=backend, seed_simulator=seed, seed_transpiler=seed)\n",
    "\n",
    "vqe_mes = VQE(ry, optimizer=cobyla, quantum_instance=quantum_instance)\n",
    "vqe = MinimumEigenOptimizer(vqe_mes)\n",
    "\n",
    "result = vqe.solve(qp)"
   ]
  },
  {
   "cell_type": "code",
   "execution_count": 15,
   "metadata": {},
   "outputs": [],
   "source": [
    "allocations = pandas.DataFrame({f\"{stocks[tidx]}\":result.x[tidx] for tidx in range(len(stocks))},index=['Allocation'])"
   ]
  },
  {
   "cell_type": "code",
   "execution_count": 16,
   "metadata": {},
   "outputs": [
    {
     "data": {
      "text/html": [
       "<div>\n",
       "<style scoped>\n",
       "    .dataframe tbody tr th:only-of-type {\n",
       "        vertical-align: middle;\n",
       "    }\n",
       "\n",
       "    .dataframe tbody tr th {\n",
       "        vertical-align: top;\n",
       "    }\n",
       "\n",
       "    .dataframe thead th {\n",
       "        text-align: right;\n",
       "    }\n",
       "</style>\n",
       "<table border=\"1\" class=\"dataframe\">\n",
       "  <thead>\n",
       "    <tr style=\"text-align: right;\">\n",
       "      <th></th>\n",
       "      <th>ACN</th>\n",
       "      <th>NVDA</th>\n",
       "      <th>GOOGL</th>\n",
       "      <th>MSFT</th>\n",
       "      <th>AMZN</th>\n",
       "    </tr>\n",
       "  </thead>\n",
       "  <tbody>\n",
       "    <tr>\n",
       "      <th>Allocation</th>\n",
       "      <td>5.0</td>\n",
       "      <td>5.0</td>\n",
       "      <td>5.0</td>\n",
       "      <td>5.0</td>\n",
       "      <td>5.0</td>\n",
       "    </tr>\n",
       "  </tbody>\n",
       "</table>\n",
       "</div>"
      ],
      "text/plain": [
       "            ACN  NVDA  GOOGL  MSFT  AMZN\n",
       "Allocation  5.0   5.0    5.0   5.0   5.0"
      ]
     },
     "execution_count": 16,
     "metadata": {},
     "output_type": "execute_result"
    }
   ],
   "source": [
    "allocations"
   ]
  },
  {
   "cell_type": "markdown",
   "metadata": {
    "tags": []
   },
   "source": [
    "### Student todo, complete an equity curve, CAGR and IR comparison for the a portfolio of all the stocks you selected for optimization compared to one which your Quantum Portfolio Optimzer put together.\n",
    "\n",
    "hints:\n",
    "\n",
    "\n",
    "The variable allocations contains a DataFrame with your relative stock allocations.   \n",
    "df is the full list of stocks you started with."
   ]
  },
  {
   "cell_type": "code",
   "execution_count": 17,
   "metadata": {},
   "outputs": [
    {
     "data": {
      "text/plain": [
       "Date\n",
       "2016-04-04   -0.034291\n",
       "2016-04-05   -0.049399\n",
       "2016-04-06    0.056112\n",
       "2016-04-07   -0.072760\n",
       "2016-04-08    0.016774\n",
       "                ...   \n",
       "2021-11-24    0.036965\n",
       "2021-11-26   -0.132525\n",
       "2021-11-29    0.154906\n",
       "2021-11-30   -0.102199\n",
       "2021-12-01   -0.055763\n",
       "Length: 1428, dtype: float64"
      ]
     },
     "execution_count": 17,
     "metadata": {},
     "output_type": "execute_result"
    }
   ],
   "source": [
    "ret_port =df.pct_change().dropna()\n",
    "portfolio_return = (ret_port * allocations.values).mean(axis=1)\n",
    "portfolio_return"
   ]
  },
  {
   "cell_type": "code",
   "execution_count": 18,
   "metadata": {},
   "outputs": [],
   "source": [
    "asset_covariances = np.cov(ret_port, rowvar=False)\n",
    "\n",
    "asset_means = np.array(np.mean(ret_port,axis=0)).reshape(-1)\n",
    "\n",
    "portfolio_variance = np.cov(ret_port, rowvar=False)\n",
    "\n",
    "portfolio_mean = np.dot(allocations, asset_means)\n",
    "\n",
    "portfolio_standard_deviation = np.dot(allocations.T,\n",
    "            np.dot(allocations, asset_covariances)) ** (0.5)"
   ]
  },
  {
   "cell_type": "code",
   "execution_count": 19,
   "metadata": {},
   "outputs": [
    {
     "data": {
      "text/plain": [
       "array([[0.00023068, 0.00020887, 0.00015448, 0.00017429, 0.00012732],\n",
       "       [0.00020887, 0.00088106, 0.00027102, 0.00030256, 0.00028577],\n",
       "       [0.00015448, 0.00027102, 0.00027044, 0.00021441, 0.00019553],\n",
       "       [0.00017429, 0.00030256, 0.00021441, 0.00028153, 0.00020989],\n",
       "       [0.00012732, 0.00028577, 0.00019553, 0.00020989, 0.00032884]])"
      ]
     },
     "execution_count": 19,
     "metadata": {},
     "output_type": "execute_result"
    }
   ],
   "source": [
    "asset_covariances"
   ]
  },
  {
   "cell_type": "code",
   "execution_count": 20,
   "metadata": {},
   "outputs": [
    {
     "data": {
      "text/plain": [
       "array([0.00097566, 0.00293892, 0.00104538, 0.00145429, 0.00138982])"
      ]
     },
     "execution_count": 20,
     "metadata": {},
     "output_type": "execute_result"
    }
   ],
   "source": [
    "asset_means\n"
   ]
  },
  {
   "cell_type": "code",
   "execution_count": 21,
   "metadata": {},
   "outputs": [
    {
     "data": {
      "text/plain": [
       "array([[0.00023068, 0.00020887, 0.00015448, 0.00017429, 0.00012732],\n",
       "       [0.00020887, 0.00088106, 0.00027102, 0.00030256, 0.00028577],\n",
       "       [0.00015448, 0.00027102, 0.00027044, 0.00021441, 0.00019553],\n",
       "       [0.00017429, 0.00030256, 0.00021441, 0.00028153, 0.00020989],\n",
       "       [0.00012732, 0.00028577, 0.00019553, 0.00020989, 0.00032884]])"
      ]
     },
     "execution_count": 21,
     "metadata": {},
     "output_type": "execute_result"
    }
   ],
   "source": [
    "portfolio_variance"
   ]
  },
  {
   "cell_type": "code",
   "execution_count": 22,
   "metadata": {},
   "outputs": [
    {
     "data": {
      "text/plain": [
       "array([0.03902037])"
      ]
     },
     "execution_count": 22,
     "metadata": {},
     "output_type": "execute_result"
    }
   ],
   "source": [
    "portfolio_mean"
   ]
  },
  {
   "cell_type": "code",
   "execution_count": 23,
   "metadata": {},
   "outputs": [
    {
     "data": {
      "text/plain": [
       "array([[0.14963751, 0.22075407, 0.16627453, 0.17195058, 0.16936305],\n",
       "       [0.14963751, 0.22075407, 0.16627453, 0.17195058, 0.16936305],\n",
       "       [0.14963751, 0.22075407, 0.16627453, 0.17195058, 0.16936305],\n",
       "       [0.14963751, 0.22075407, 0.16627453, 0.17195058, 0.16936305],\n",
       "       [0.14963751, 0.22075407, 0.16627453, 0.17195058, 0.16936305]])"
      ]
     },
     "execution_count": 23,
     "metadata": {},
     "output_type": "execute_result"
    }
   ],
   "source": [
    "portfolio_standard_deviation"
   ]
  },
  {
   "cell_type": "code",
   "execution_count": null,
   "metadata": {},
   "outputs": [],
   "source": []
  },
  {
   "cell_type": "code",
   "execution_count": null,
   "metadata": {},
   "outputs": [],
   "source": []
  }
 ],
 "metadata": {
  "celltoolbar": "Tags",
  "kernelspec": {
   "display_name": "Qiskit v0.32.1 (ipykernel)",
   "language": "python",
   "name": "python3"
  },
  "language_info": {
   "codemirror_mode": {
    "name": "ipython",
    "version": 3
   },
   "file_extension": ".py",
   "mimetype": "text/x-python",
   "name": "python",
   "nbconvert_exporter": "python",
   "pygments_lexer": "ipython3",
   "version": "3.8.10"
  },
  "varInspector": {
   "cols": {
    "lenName": 16,
    "lenType": 16,
    "lenVar": 40
   },
   "kernels_config": {
    "python": {
     "delete_cmd_postfix": "",
     "delete_cmd_prefix": "del ",
     "library": "var_list.py",
     "varRefreshCmd": "print(var_dic_list())"
    },
    "r": {
     "delete_cmd_postfix": ") ",
     "delete_cmd_prefix": "rm(",
     "library": "var_list.r",
     "varRefreshCmd": "cat(var_dic_list()) "
    }
   },
   "types_to_exclude": [
    "module",
    "function",
    "builtin_function_or_method",
    "instance",
    "_Feature"
   ],
   "window_display": false
  },
  "widgets": {
   "application/vnd.jupyter.widget-state+json": {
    "state": {},
    "version_major": 2,
    "version_minor": 0
   }
  }
 },
 "nbformat": 4,
 "nbformat_minor": 4
}
